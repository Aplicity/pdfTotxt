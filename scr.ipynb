{
 "cells": [
  {
   "cell_type": "code",
   "execution_count": 1,
   "metadata": {},
   "outputs": [],
   "source": [
    "import os.path\n",
    "from pdfminer.pdfparser import  PDFParser,PDFDocument\n",
    "from pdfminer.pdfinterp import PDFResourceManager, PDFPageInterpreter\n",
    "from pdfminer.converter import PDFPageAggregator\n",
    "from pdfminer.layout import LTTextBoxHorizontal,LAParams\n",
    "from pdfminer.pdfinterp import PDFTextExtractionNotAllowed"
   ]
  },
  {
   "cell_type": "code",
   "execution_count": 2,
   "metadata": {},
   "outputs": [],
   "source": [
    "def pdf2txt(pdf_fileName, output_fileName = None):\n",
    "    '''\n",
    "    pdf文档提取文本，并保存到txt文件中。\n",
    "    pdf_fileName : pdf文件名\n",
    "    output_fileName: txt文件名，默认为 pdf_fileName 去掉.pdf 换成 .txt\n",
    "    '''\n",
    "    if output_fileName is None:\n",
    "        output_fileName = pdf_fileName.split(\".pdf\")[0] + '.txt'\n",
    "    \n",
    "    fp = open(pdf_fileName , 'rb') \n",
    "    #用文件对象创建一个PDF文档分析器\n",
    "    parser = PDFParser(fp)\n",
    "\n",
    "    #创建一个PDF文档\n",
    "    doc = PDFDocument()\n",
    "\n",
    "    #连接分析器，与文档对象\n",
    "    parser.set_document(doc)\n",
    "    doc.set_parser(parser)\n",
    "    \n",
    "    #提供初始化密码，如果没有密码，就创建一个空的字符串\n",
    "    doc.initialize()\n",
    "\n",
    "    #检测文档是否提供txt转换，不提供就忽略\n",
    "    if not doc.is_extractable:\n",
    "        raise PDFTextExtractionNotAllowed\n",
    "\n",
    "    else:\n",
    "        #创建PDF，资源管理器，来共享资源\n",
    "        rsrcmgr = PDFResourceManager()\n",
    "        #创建一个PDF设备对象\n",
    "        laparams = LAParams()\n",
    "        device = PDFPageAggregator(rsrcmgr,laparams=laparams)\n",
    "        #创建一个PDF解释其对象\n",
    "        interpreter = PDFPageInterpreter(rsrcmgr,device)\n",
    "\n",
    "        #循环遍历列表，每次处理一个page内容\n",
    "        # doc.get_pages() 获取page列表\n",
    "        for page in doc.get_pages():\n",
    "            interpreter.process_page(page)\n",
    "            #接受该页面的LTPage对象\n",
    "            layout = device.get_result()\n",
    "            # 这里layout是一个LTPage对象 里面存放着 这个page解析出的各种对象\n",
    "            # 一般包括LTTextBox, LTFigure, LTImage, LTTextBoxHorizontal 等等\n",
    "            # 想要获取文本就获得对象的text属性，\n",
    "            for x in layout:\n",
    "                if(isinstance(x,LTTextBoxHorizontal)):\n",
    "                    with open(output_fileName,'a') as f:\n",
    "                        results = x.get_text()\n",
    "                        f.write(results  +\"\\n\")\n",
    "    #                     print(results)\n",
    "    print(\"file --\", pdf_fileName , \"Done !\")\n",
    "\n"
   ]
  },
  {
   "cell_type": "code",
   "execution_count": null,
   "metadata": {},
   "outputs": [],
   "source": [
    "if __name__ == \"__main__\":    \n",
    "    pdf_fileName = 'nlp-intro-v1.0.pdf'\n",
    "    pdf2txt(pdf_fileName)"
   ]
  },
  {
   "cell_type": "code",
   "execution_count": null,
   "metadata": {},
   "outputs": [],
   "source": []
  },
  {
   "cell_type": "code",
   "execution_count": null,
   "metadata": {},
   "outputs": [],
   "source": []
  },
  {
   "cell_type": "code",
   "execution_count": null,
   "metadata": {},
   "outputs": [],
   "source": []
  }
 ],
 "metadata": {
  "kernelspec": {
   "display_name": "Python 3",
   "language": "python",
   "name": "python3"
  },
  "language_info": {
   "codemirror_mode": {
    "name": "ipython",
    "version": 3
   },
   "file_extension": ".py",
   "mimetype": "text/x-python",
   "name": "python",
   "nbconvert_exporter": "python",
   "pygments_lexer": "ipython3",
   "version": "3.6.4"
  },
  "toc": {
   "base_numbering": 1,
   "nav_menu": {},
   "number_sections": true,
   "sideBar": true,
   "skip_h1_title": false,
   "title_cell": "Table of Contents",
   "title_sidebar": "Contents",
   "toc_cell": false,
   "toc_position": {},
   "toc_section_display": true,
   "toc_window_display": false
  },
  "varInspector": {
   "cols": {
    "lenName": 16,
    "lenType": 16,
    "lenVar": 40
   },
   "kernels_config": {
    "python": {
     "delete_cmd_postfix": "",
     "delete_cmd_prefix": "del ",
     "library": "var_list.py",
     "varRefreshCmd": "print(var_dic_list())"
    },
    "r": {
     "delete_cmd_postfix": ") ",
     "delete_cmd_prefix": "rm(",
     "library": "var_list.r",
     "varRefreshCmd": "cat(var_dic_list()) "
    }
   },
   "types_to_exclude": [
    "module",
    "function",
    "builtin_function_or_method",
    "instance",
    "_Feature"
   ],
   "window_display": false
  }
 },
 "nbformat": 4,
 "nbformat_minor": 2
}
